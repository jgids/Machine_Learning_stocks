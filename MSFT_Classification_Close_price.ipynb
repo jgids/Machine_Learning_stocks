{
 "cells": [
  {
   "cell_type": "code",
   "execution_count": 28,
   "id": "012f8317",
   "metadata": {},
   "outputs": [],
   "source": [
    "import requests\n",
    "import pandas as pd\n",
    "import numpy as np\n",
    "import yfinance as yf\n",
    "import datetime as datetime\n",
    "import matplotlib.pyplot as plt\n",
    "\n",
    "from sklearn.tree import DecisionTreeClassifier\n",
    "from sklearn.model_selection import cross_val_score\n",
    "from sklearn.metrics import accuracy_score"
   ]
  },
  {
   "cell_type": "markdown",
   "id": "ee42038f",
   "metadata": {},
   "source": [
    "  "
   ]
  },
  {
   "cell_type": "markdown",
   "id": "f07d3f45",
   "metadata": {},
   "source": [
    "**1.- Import prices from the Yahoo! Finance API:**"
   ]
  },
  {
   "cell_type": "markdown",
   "id": "c250bf2c",
   "metadata": {},
   "source": [
    "We can retrieve daily price values using the Yahoo! Finance API:"
   ]
  },
  {
   "cell_type": "code",
   "execution_count": 2,
   "id": "9010c839",
   "metadata": {},
   "outputs": [
    {
     "data": {
      "text/html": [
       "<div>\n",
       "<style scoped>\n",
       "    .dataframe tbody tr th:only-of-type {\n",
       "        vertical-align: middle;\n",
       "    }\n",
       "\n",
       "    .dataframe tbody tr th {\n",
       "        vertical-align: top;\n",
       "    }\n",
       "\n",
       "    .dataframe thead th {\n",
       "        text-align: right;\n",
       "    }\n",
       "</style>\n",
       "<table border=\"1\" class=\"dataframe\">\n",
       "  <thead>\n",
       "    <tr style=\"text-align: right;\">\n",
       "      <th></th>\n",
       "      <th>Open</th>\n",
       "      <th>High</th>\n",
       "      <th>Low</th>\n",
       "      <th>Close</th>\n",
       "      <th>Volume</th>\n",
       "      <th>Dividends</th>\n",
       "      <th>Stock Splits</th>\n",
       "    </tr>\n",
       "    <tr>\n",
       "      <th>Date</th>\n",
       "      <th></th>\n",
       "      <th></th>\n",
       "      <th></th>\n",
       "      <th></th>\n",
       "      <th></th>\n",
       "      <th></th>\n",
       "      <th></th>\n",
       "    </tr>\n",
       "  </thead>\n",
       "  <tbody>\n",
       "    <tr>\n",
       "      <th>1986-03-13 00:00:00-05:00</th>\n",
       "      <td>0.055241</td>\n",
       "      <td>0.063365</td>\n",
       "      <td>0.055241</td>\n",
       "      <td>0.060657</td>\n",
       "      <td>1031788800</td>\n",
       "      <td>0.0</td>\n",
       "      <td>0.0</td>\n",
       "    </tr>\n",
       "    <tr>\n",
       "      <th>1986-03-14 00:00:00-05:00</th>\n",
       "      <td>0.060657</td>\n",
       "      <td>0.063906</td>\n",
       "      <td>0.060657</td>\n",
       "      <td>0.062823</td>\n",
       "      <td>308160000</td>\n",
       "      <td>0.0</td>\n",
       "      <td>0.0</td>\n",
       "    </tr>\n",
       "    <tr>\n",
       "      <th>1986-03-17 00:00:00-05:00</th>\n",
       "      <td>0.062823</td>\n",
       "      <td>0.064448</td>\n",
       "      <td>0.062823</td>\n",
       "      <td>0.063907</td>\n",
       "      <td>133171200</td>\n",
       "      <td>0.0</td>\n",
       "      <td>0.0</td>\n",
       "    </tr>\n",
       "    <tr>\n",
       "      <th>1986-03-18 00:00:00-05:00</th>\n",
       "      <td>0.063906</td>\n",
       "      <td>0.064448</td>\n",
       "      <td>0.061740</td>\n",
       "      <td>0.062281</td>\n",
       "      <td>67766400</td>\n",
       "      <td>0.0</td>\n",
       "      <td>0.0</td>\n",
       "    </tr>\n",
       "    <tr>\n",
       "      <th>1986-03-19 00:00:00-05:00</th>\n",
       "      <td>0.062281</td>\n",
       "      <td>0.062823</td>\n",
       "      <td>0.060657</td>\n",
       "      <td>0.061198</td>\n",
       "      <td>47894400</td>\n",
       "      <td>0.0</td>\n",
       "      <td>0.0</td>\n",
       "    </tr>\n",
       "  </tbody>\n",
       "</table>\n",
       "</div>"
      ],
      "text/plain": [
       "                               Open      High       Low     Close      Volume  \\\n",
       "Date                                                                            \n",
       "1986-03-13 00:00:00-05:00  0.055241  0.063365  0.055241  0.060657  1031788800   \n",
       "1986-03-14 00:00:00-05:00  0.060657  0.063906  0.060657  0.062823   308160000   \n",
       "1986-03-17 00:00:00-05:00  0.062823  0.064448  0.062823  0.063907   133171200   \n",
       "1986-03-18 00:00:00-05:00  0.063906  0.064448  0.061740  0.062281    67766400   \n",
       "1986-03-19 00:00:00-05:00  0.062281  0.062823  0.060657  0.061198    47894400   \n",
       "\n",
       "                           Dividends  Stock Splits  \n",
       "Date                                                \n",
       "1986-03-13 00:00:00-05:00        0.0           0.0  \n",
       "1986-03-14 00:00:00-05:00        0.0           0.0  \n",
       "1986-03-17 00:00:00-05:00        0.0           0.0  \n",
       "1986-03-18 00:00:00-05:00        0.0           0.0  \n",
       "1986-03-19 00:00:00-05:00        0.0           0.0  "
      ]
     },
     "execution_count": 2,
     "metadata": {},
     "output_type": "execute_result"
    }
   ],
   "source": [
    "MSFT_yf = yf.Ticker('MSFT')\n",
    "MSFT = MSFT_yf.history(period='max')\n",
    "MSFT.head()"
   ]
  },
  {
   "cell_type": "markdown",
   "id": "2e7ca188",
   "metadata": {},
   "source": [
    "Next we are going to change the index of the DataFrame into a datetime format that can be used to build diagrams with matplotlib:"
   ]
  },
  {
   "cell_type": "code",
   "execution_count": 7,
   "id": "18f41610",
   "metadata": {},
   "outputs": [],
   "source": [
    "MSFT.index = pd.to_datetime(MSFT.index)"
   ]
  },
  {
   "cell_type": "code",
   "execution_count": 8,
   "id": "4bf3d884",
   "metadata": {},
   "outputs": [
    {
     "data": {
      "text/html": [
       "<div>\n",
       "<style scoped>\n",
       "    .dataframe tbody tr th:only-of-type {\n",
       "        vertical-align: middle;\n",
       "    }\n",
       "\n",
       "    .dataframe tbody tr th {\n",
       "        vertical-align: top;\n",
       "    }\n",
       "\n",
       "    .dataframe thead th {\n",
       "        text-align: right;\n",
       "    }\n",
       "</style>\n",
       "<table border=\"1\" class=\"dataframe\">\n",
       "  <thead>\n",
       "    <tr style=\"text-align: right;\">\n",
       "      <th></th>\n",
       "      <th>Open</th>\n",
       "      <th>High</th>\n",
       "      <th>Low</th>\n",
       "      <th>Close</th>\n",
       "      <th>Volume</th>\n",
       "      <th>Dividends</th>\n",
       "      <th>Stock Splits</th>\n",
       "    </tr>\n",
       "    <tr>\n",
       "      <th>Date</th>\n",
       "      <th></th>\n",
       "      <th></th>\n",
       "      <th></th>\n",
       "      <th></th>\n",
       "      <th></th>\n",
       "      <th></th>\n",
       "      <th></th>\n",
       "    </tr>\n",
       "  </thead>\n",
       "  <tbody>\n",
       "    <tr>\n",
       "      <th>1986-03-13</th>\n",
       "      <td>0.055241</td>\n",
       "      <td>0.063365</td>\n",
       "      <td>0.055241</td>\n",
       "      <td>0.060657</td>\n",
       "      <td>1031788800</td>\n",
       "      <td>0.0</td>\n",
       "      <td>0.0</td>\n",
       "    </tr>\n",
       "    <tr>\n",
       "      <th>1986-03-14</th>\n",
       "      <td>0.060657</td>\n",
       "      <td>0.063906</td>\n",
       "      <td>0.060657</td>\n",
       "      <td>0.062823</td>\n",
       "      <td>308160000</td>\n",
       "      <td>0.0</td>\n",
       "      <td>0.0</td>\n",
       "    </tr>\n",
       "    <tr>\n",
       "      <th>1986-03-17</th>\n",
       "      <td>0.062823</td>\n",
       "      <td>0.064448</td>\n",
       "      <td>0.062823</td>\n",
       "      <td>0.063907</td>\n",
       "      <td>133171200</td>\n",
       "      <td>0.0</td>\n",
       "      <td>0.0</td>\n",
       "    </tr>\n",
       "    <tr>\n",
       "      <th>1986-03-18</th>\n",
       "      <td>0.063906</td>\n",
       "      <td>0.064448</td>\n",
       "      <td>0.061740</td>\n",
       "      <td>0.062281</td>\n",
       "      <td>67766400</td>\n",
       "      <td>0.0</td>\n",
       "      <td>0.0</td>\n",
       "    </tr>\n",
       "    <tr>\n",
       "      <th>1986-03-19</th>\n",
       "      <td>0.062281</td>\n",
       "      <td>0.062823</td>\n",
       "      <td>0.060657</td>\n",
       "      <td>0.061198</td>\n",
       "      <td>47894400</td>\n",
       "      <td>0.0</td>\n",
       "      <td>0.0</td>\n",
       "    </tr>\n",
       "  </tbody>\n",
       "</table>\n",
       "</div>"
      ],
      "text/plain": [
       "                Open      High       Low     Close      Volume  Dividends  \\\n",
       "Date                                                                        \n",
       "1986-03-13  0.055241  0.063365  0.055241  0.060657  1031788800        0.0   \n",
       "1986-03-14  0.060657  0.063906  0.060657  0.062823   308160000        0.0   \n",
       "1986-03-17  0.062823  0.064448  0.062823  0.063907   133171200        0.0   \n",
       "1986-03-18  0.063906  0.064448  0.061740  0.062281    67766400        0.0   \n",
       "1986-03-19  0.062281  0.062823  0.060657  0.061198    47894400        0.0   \n",
       "\n",
       "            Stock Splits  \n",
       "Date                      \n",
       "1986-03-13           0.0  \n",
       "1986-03-14           0.0  \n",
       "1986-03-17           0.0  \n",
       "1986-03-18           0.0  \n",
       "1986-03-19           0.0  "
      ]
     },
     "execution_count": 8,
     "metadata": {},
     "output_type": "execute_result"
    }
   ],
   "source": [
    "MSFT.head()"
   ]
  },
  {
   "cell_type": "code",
   "execution_count": 9,
   "id": "652ed7ac",
   "metadata": {},
   "outputs": [
    {
     "data": {
      "text/html": [
       "<div>\n",
       "<style scoped>\n",
       "    .dataframe tbody tr th:only-of-type {\n",
       "        vertical-align: middle;\n",
       "    }\n",
       "\n",
       "    .dataframe tbody tr th {\n",
       "        vertical-align: top;\n",
       "    }\n",
       "\n",
       "    .dataframe thead th {\n",
       "        text-align: right;\n",
       "    }\n",
       "</style>\n",
       "<table border=\"1\" class=\"dataframe\">\n",
       "  <thead>\n",
       "    <tr style=\"text-align: right;\">\n",
       "      <th></th>\n",
       "      <th>Open</th>\n",
       "      <th>High</th>\n",
       "      <th>Low</th>\n",
       "      <th>Close</th>\n",
       "      <th>Volume</th>\n",
       "      <th>Dividends</th>\n",
       "      <th>Stock Splits</th>\n",
       "    </tr>\n",
       "    <tr>\n",
       "      <th>Date</th>\n",
       "      <th></th>\n",
       "      <th></th>\n",
       "      <th></th>\n",
       "      <th></th>\n",
       "      <th></th>\n",
       "      <th></th>\n",
       "      <th></th>\n",
       "    </tr>\n",
       "  </thead>\n",
       "  <tbody>\n",
       "    <tr>\n",
       "      <th>1986-03-13</th>\n",
       "      <td>0.055241</td>\n",
       "      <td>0.063365</td>\n",
       "      <td>0.055241</td>\n",
       "      <td>0.060657</td>\n",
       "      <td>1031788800</td>\n",
       "      <td>0.0</td>\n",
       "      <td>0.0</td>\n",
       "    </tr>\n",
       "    <tr>\n",
       "      <th>1986-03-14</th>\n",
       "      <td>0.060657</td>\n",
       "      <td>0.063906</td>\n",
       "      <td>0.060657</td>\n",
       "      <td>0.062823</td>\n",
       "      <td>308160000</td>\n",
       "      <td>0.0</td>\n",
       "      <td>0.0</td>\n",
       "    </tr>\n",
       "    <tr>\n",
       "      <th>1986-03-17</th>\n",
       "      <td>0.062823</td>\n",
       "      <td>0.064448</td>\n",
       "      <td>0.062823</td>\n",
       "      <td>0.063907</td>\n",
       "      <td>133171200</td>\n",
       "      <td>0.0</td>\n",
       "      <td>0.0</td>\n",
       "    </tr>\n",
       "    <tr>\n",
       "      <th>1986-03-18</th>\n",
       "      <td>0.063906</td>\n",
       "      <td>0.064448</td>\n",
       "      <td>0.061740</td>\n",
       "      <td>0.062281</td>\n",
       "      <td>67766400</td>\n",
       "      <td>0.0</td>\n",
       "      <td>0.0</td>\n",
       "    </tr>\n",
       "    <tr>\n",
       "      <th>1986-03-19</th>\n",
       "      <td>0.062281</td>\n",
       "      <td>0.062823</td>\n",
       "      <td>0.060657</td>\n",
       "      <td>0.061198</td>\n",
       "      <td>47894400</td>\n",
       "      <td>0.0</td>\n",
       "      <td>0.0</td>\n",
       "    </tr>\n",
       "  </tbody>\n",
       "</table>\n",
       "</div>"
      ],
      "text/plain": [
       "                Open      High       Low     Close      Volume  Dividends  \\\n",
       "Date                                                                        \n",
       "1986-03-13  0.055241  0.063365  0.055241  0.060657  1031788800        0.0   \n",
       "1986-03-14  0.060657  0.063906  0.060657  0.062823   308160000        0.0   \n",
       "1986-03-17  0.062823  0.064448  0.062823  0.063907   133171200        0.0   \n",
       "1986-03-18  0.063906  0.064448  0.061740  0.062281    67766400        0.0   \n",
       "1986-03-19  0.062281  0.062823  0.060657  0.061198    47894400        0.0   \n",
       "\n",
       "            Stock Splits  \n",
       "Date                      \n",
       "1986-03-13           0.0  \n",
       "1986-03-14           0.0  \n",
       "1986-03-17           0.0  \n",
       "1986-03-18           0.0  \n",
       "1986-03-19           0.0  "
      ]
     },
     "execution_count": 9,
     "metadata": {},
     "output_type": "execute_result"
    }
   ],
   "source": [
    "MSFT.index = MSFT.index.strftime('%Y-%m-%d')\n",
    "MSFT.head()"
   ]
  },
  {
   "cell_type": "code",
   "execution_count": 10,
   "id": "40c20fa3",
   "metadata": {},
   "outputs": [],
   "source": [
    "MSFT.index = pd.to_datetime(MSFT.index)"
   ]
  },
  {
   "cell_type": "markdown",
   "id": "50f6de95",
   "metadata": {},
   "source": [
    " "
   ]
  },
  {
   "cell_type": "markdown",
   "id": "e9eb20ce",
   "metadata": {},
   "source": [
    "**2.- Obtain the target variable**"
   ]
  },
  {
   "cell_type": "markdown",
   "id": "6eff32cf",
   "metadata": {},
   "source": [
    "First we are going to create the target variable. As we are going to study the prediction from a categorical point of view, we are going to build a column where 1 means that the closing price is higher than the open price and 0 means a decrease in price. \n",
    "\n",
    "To start with, we are going to create a new column that calculates the difference between the close and open price:"
   ]
  },
  {
   "cell_type": "code",
   "execution_count": 11,
   "id": "e5d78f87",
   "metadata": {},
   "outputs": [],
   "source": [
    "MSFT['Daily change'] = MSFT['Close'] - MSFT['Open']"
   ]
  },
  {
   "cell_type": "markdown",
   "id": "5d268a6b",
   "metadata": {},
   "source": [
    "Now we are going to convert the column to a binary variable:"
   ]
  },
  {
   "cell_type": "code",
   "execution_count": 12,
   "id": "237e3ddd",
   "metadata": {},
   "outputs": [
    {
     "data": {
      "text/html": [
       "<div>\n",
       "<style scoped>\n",
       "    .dataframe tbody tr th:only-of-type {\n",
       "        vertical-align: middle;\n",
       "    }\n",
       "\n",
       "    .dataframe tbody tr th {\n",
       "        vertical-align: top;\n",
       "    }\n",
       "\n",
       "    .dataframe thead th {\n",
       "        text-align: right;\n",
       "    }\n",
       "</style>\n",
       "<table border=\"1\" class=\"dataframe\">\n",
       "  <thead>\n",
       "    <tr style=\"text-align: right;\">\n",
       "      <th></th>\n",
       "      <th>Open</th>\n",
       "      <th>High</th>\n",
       "      <th>Low</th>\n",
       "      <th>Close</th>\n",
       "      <th>Volume</th>\n",
       "      <th>Dividends</th>\n",
       "      <th>Stock Splits</th>\n",
       "      <th>Daily change</th>\n",
       "    </tr>\n",
       "    <tr>\n",
       "      <th>Date</th>\n",
       "      <th></th>\n",
       "      <th></th>\n",
       "      <th></th>\n",
       "      <th></th>\n",
       "      <th></th>\n",
       "      <th></th>\n",
       "      <th></th>\n",
       "      <th></th>\n",
       "    </tr>\n",
       "  </thead>\n",
       "  <tbody>\n",
       "    <tr>\n",
       "      <th>1986-03-13</th>\n",
       "      <td>0.055241</td>\n",
       "      <td>0.063365</td>\n",
       "      <td>0.055241</td>\n",
       "      <td>0.060657</td>\n",
       "      <td>1031788800</td>\n",
       "      <td>0.0</td>\n",
       "      <td>0.0</td>\n",
       "      <td>1.0</td>\n",
       "    </tr>\n",
       "    <tr>\n",
       "      <th>1986-03-14</th>\n",
       "      <td>0.060657</td>\n",
       "      <td>0.063906</td>\n",
       "      <td>0.060657</td>\n",
       "      <td>0.062823</td>\n",
       "      <td>308160000</td>\n",
       "      <td>0.0</td>\n",
       "      <td>0.0</td>\n",
       "      <td>1.0</td>\n",
       "    </tr>\n",
       "    <tr>\n",
       "      <th>1986-03-17</th>\n",
       "      <td>0.062823</td>\n",
       "      <td>0.064448</td>\n",
       "      <td>0.062823</td>\n",
       "      <td>0.063907</td>\n",
       "      <td>133171200</td>\n",
       "      <td>0.0</td>\n",
       "      <td>0.0</td>\n",
       "      <td>1.0</td>\n",
       "    </tr>\n",
       "    <tr>\n",
       "      <th>1986-03-18</th>\n",
       "      <td>0.063906</td>\n",
       "      <td>0.064448</td>\n",
       "      <td>0.061740</td>\n",
       "      <td>0.062281</td>\n",
       "      <td>67766400</td>\n",
       "      <td>0.0</td>\n",
       "      <td>0.0</td>\n",
       "      <td>0.0</td>\n",
       "    </tr>\n",
       "    <tr>\n",
       "      <th>1986-03-19</th>\n",
       "      <td>0.062281</td>\n",
       "      <td>0.062823</td>\n",
       "      <td>0.060657</td>\n",
       "      <td>0.061198</td>\n",
       "      <td>47894400</td>\n",
       "      <td>0.0</td>\n",
       "      <td>0.0</td>\n",
       "      <td>0.0</td>\n",
       "    </tr>\n",
       "  </tbody>\n",
       "</table>\n",
       "</div>"
      ],
      "text/plain": [
       "                Open      High       Low     Close      Volume  Dividends  \\\n",
       "Date                                                                        \n",
       "1986-03-13  0.055241  0.063365  0.055241  0.060657  1031788800        0.0   \n",
       "1986-03-14  0.060657  0.063906  0.060657  0.062823   308160000        0.0   \n",
       "1986-03-17  0.062823  0.064448  0.062823  0.063907   133171200        0.0   \n",
       "1986-03-18  0.063906  0.064448  0.061740  0.062281    67766400        0.0   \n",
       "1986-03-19  0.062281  0.062823  0.060657  0.061198    47894400        0.0   \n",
       "\n",
       "            Stock Splits  Daily change  \n",
       "Date                                    \n",
       "1986-03-13           0.0           1.0  \n",
       "1986-03-14           0.0           1.0  \n",
       "1986-03-17           0.0           1.0  \n",
       "1986-03-18           0.0           0.0  \n",
       "1986-03-19           0.0           0.0  "
      ]
     },
     "execution_count": 12,
     "metadata": {},
     "output_type": "execute_result"
    }
   ],
   "source": [
    "def func(x):\n",
    "    if x > 0:\n",
    "        return 1\n",
    "    elif x < 0:\n",
    "        return 0\n",
    "    \n",
    "\n",
    "MSFT['Daily change']  = MSFT['Daily change'] .apply(func)\n",
    "MSFT.head()"
   ]
  },
  {
   "cell_type": "markdown",
   "id": "1cba7d0d",
   "metadata": {},
   "source": [
    "Now we are going to build a new DataFrame where we are going to initially start with the target variable (Daily change), one independent variable (yesterdays's daily change) and continuously add one by one variable to test the accuracy of the model:"
   ]
  },
  {
   "cell_type": "code",
   "execution_count": 13,
   "id": "f88d1c7c",
   "metadata": {},
   "outputs": [],
   "source": [
    "MSFT ['Yesterday daily change'] = MSFT ['Daily change'].shift(1)"
   ]
  },
  {
   "cell_type": "code",
   "execution_count": 14,
   "id": "f5b4ad6d",
   "metadata": {},
   "outputs": [],
   "source": [
    "df = MSFT [['Daily change', 'Yesterday daily change']]"
   ]
  },
  {
   "cell_type": "markdown",
   "id": "6d2f1ea1",
   "metadata": {},
   "source": [
    " "
   ]
  },
  {
   "cell_type": "markdown",
   "id": "7a89c0f2",
   "metadata": {},
   "source": [
    "**3.- Clean the dataset**"
   ]
  },
  {
   "cell_type": "markdown",
   "id": "1b119959",
   "metadata": {},
   "source": [
    "Next, we need to **remove the NaN values**, because most ML models do not work with NaN values:"
   ]
  },
  {
   "cell_type": "code",
   "execution_count": 15,
   "id": "692af08a",
   "metadata": {},
   "outputs": [],
   "source": [
    "df = df.dropna()"
   ]
  },
  {
   "cell_type": "code",
   "execution_count": 16,
   "id": "17a7ea62",
   "metadata": {},
   "outputs": [
    {
     "data": {
      "text/html": [
       "<div>\n",
       "<style scoped>\n",
       "    .dataframe tbody tr th:only-of-type {\n",
       "        vertical-align: middle;\n",
       "    }\n",
       "\n",
       "    .dataframe tbody tr th {\n",
       "        vertical-align: top;\n",
       "    }\n",
       "\n",
       "    .dataframe thead th {\n",
       "        text-align: right;\n",
       "    }\n",
       "</style>\n",
       "<table border=\"1\" class=\"dataframe\">\n",
       "  <thead>\n",
       "    <tr style=\"text-align: right;\">\n",
       "      <th></th>\n",
       "      <th>Daily change</th>\n",
       "      <th>Yesterday daily change</th>\n",
       "    </tr>\n",
       "    <tr>\n",
       "      <th>Date</th>\n",
       "      <th></th>\n",
       "      <th></th>\n",
       "    </tr>\n",
       "  </thead>\n",
       "  <tbody>\n",
       "    <tr>\n",
       "      <th>1986-03-14</th>\n",
       "      <td>1.0</td>\n",
       "      <td>1.0</td>\n",
       "    </tr>\n",
       "    <tr>\n",
       "      <th>1986-03-17</th>\n",
       "      <td>1.0</td>\n",
       "      <td>1.0</td>\n",
       "    </tr>\n",
       "    <tr>\n",
       "      <th>1986-03-18</th>\n",
       "      <td>0.0</td>\n",
       "      <td>1.0</td>\n",
       "    </tr>\n",
       "    <tr>\n",
       "      <th>1986-03-19</th>\n",
       "      <td>0.0</td>\n",
       "      <td>0.0</td>\n",
       "    </tr>\n",
       "    <tr>\n",
       "      <th>1986-03-20</th>\n",
       "      <td>0.0</td>\n",
       "      <td>0.0</td>\n",
       "    </tr>\n",
       "  </tbody>\n",
       "</table>\n",
       "</div>"
      ],
      "text/plain": [
       "            Daily change  Yesterday daily change\n",
       "Date                                            \n",
       "1986-03-14           1.0                     1.0\n",
       "1986-03-17           1.0                     1.0\n",
       "1986-03-18           0.0                     1.0\n",
       "1986-03-19           0.0                     0.0\n",
       "1986-03-20           0.0                     0.0"
      ]
     },
     "execution_count": 16,
     "metadata": {},
     "output_type": "execute_result"
    }
   ],
   "source": [
    "df.head()"
   ]
  },
  {
   "cell_type": "markdown",
   "id": "c10b6704",
   "metadata": {},
   "source": [
    " "
   ]
  },
  {
   "cell_type": "markdown",
   "id": "9fd09293",
   "metadata": {},
   "source": [
    "**4.- Training and evaluation of the model**"
   ]
  },
  {
   "cell_type": "markdown",
   "id": "334953af",
   "metadata": {},
   "source": [
    "Performing a train test split is not accurate enough to test the performance of Machine Learning models. A more accurate procedure is to perform **Cross-Validation**.\n",
    "\n",
    "Cross-Validation on time series is not performed as on standard cases. There are two main methods to perform Cross-Validation on time series: time series split and blocked cross-validation. **Time series split** starts with a small train gap and small test gap and increases the train gap until all the dataset is evaluated. On the other side, **blocked cross-validation** uses the same size of train and test and rolls the window to the next subset of the dataset.\n",
    "\n",
    "We are now going to use blocked cross-validation because the windows do not overlap in time and the dataset is big enough to use this technique. \n",
    "\n",
    "To apply this technique, we are going to create the following function:"
   ]
  },
  {
   "cell_type": "code",
   "execution_count": 18,
   "id": "e5c8510e",
   "metadata": {},
   "outputs": [],
   "source": [
    "class BlockingTimeSeriesSplit():\n",
    "    def __init__(self, n_splits):\n",
    "        self.n_splits = n_splits\n",
    "    \n",
    "    def get_n_splits(self, X, y, groups):\n",
    "        return self.n_splits\n",
    "    \n",
    "    def split(self, X, y=None, groups=None):\n",
    "        n_samples = len(X)\n",
    "        k_fold_size = n_samples // self.n_splits\n",
    "        indices = np.arange(n_samples)\n",
    "\n",
    "        margin = 0\n",
    "        for i in range(self.n_splits):\n",
    "            start = i * k_fold_size\n",
    "            stop = start + k_fold_size\n",
    "            mid = int(0.8 * (stop - start)) + start\n",
    "            yield indices[start: mid], indices[mid + margin: stop]"
   ]
  },
  {
   "cell_type": "markdown",
   "id": "e7793649",
   "metadata": {},
   "source": [
    "We now **split the data into train and test**. The split number will help us take 75% of the data for the training and the remaining 25% for the test subset. The new matrix X is create to **consider only the independent variables**. If we would consider all the columns (including the target variable) the accuracy would be 100% because the model would be capable of knowing the correct answer beforehand. The **target variable is the 'Daily change' column.**"
   ]
  },
  {
   "cell_type": "code",
   "execution_count": 19,
   "id": "90126ab9",
   "metadata": {},
   "outputs": [],
   "source": [
    "# Training dataset length\n",
    "split = int(len(df) * 0.75)\n",
    "\n",
    "# Splittiing the X and y into train and test datasets\n",
    "X = df.drop(['Daily change'], axis=1)\n",
    "X_train = X[:split]\n",
    "X_test = X[split:]\n",
    "y_train = df['Daily change'][:split]\n",
    "y_test = df['Daily change'][split:]"
   ]
  },
  {
   "cell_type": "markdown",
   "id": "af9c3ff9",
   "metadata": {},
   "source": [
    "Next, we are going to perform cross-validation and evalate the mean and standard deviation of the accuracies of the splitted fragments."
   ]
  },
  {
   "cell_type": "code",
   "execution_count": 26,
   "id": "335c5201",
   "metadata": {},
   "outputs": [
    {
     "name": "stdout",
     "output_type": "stream",
     "text": [
      "Loss: 0.515 (+/- 0.041)\n"
     ]
    }
   ],
   "source": [
    "model = DecisionTreeClassifier(random_state=12)\n",
    "btscv = BlockingTimeSeriesSplit(n_splits=5)\n",
    "scores = cross_val_score(model, X_train, y_train, cv=btscv, scoring='accuracy')\n",
    "print(\"Loss: {0:.3f} (+/- {1:.3f})\".format(scores.mean(), scores.std()))"
   ]
  },
  {
   "cell_type": "markdown",
   "id": "a9c0b6d8",
   "metadata": {},
   "source": [
    "We finally apply and evaluate the model on the test subset."
   ]
  },
  {
   "cell_type": "code",
   "execution_count": 29,
   "id": "7b5b2173",
   "metadata": {},
   "outputs": [
    {
     "data": {
      "text/plain": [
       "52.002"
      ]
     },
     "execution_count": 29,
     "metadata": {},
     "output_type": "execute_result"
    }
   ],
   "source": [
    "clf = DecisionTreeClassifier(random_state=12)\n",
    "model = clf.fit(X_train, y_train)\n",
    "round(accuracy_score(y_test, model.predict(X_test), normalize=True)*100, 3)"
   ]
  },
  {
   "cell_type": "markdown",
   "id": "08203d3e",
   "metadata": {},
   "source": [
    "As we can see, **if yesterday the price change was positive or negative does not offer any predictive power**."
   ]
  },
  {
   "cell_type": "markdown",
   "id": "1e3d9843",
   "metadata": {},
   "source": [
    " "
   ]
  },
  {
   "cell_type": "markdown",
   "id": "fefd968c",
   "metadata": {},
   "source": [
    "Disclamer: The information on this notebook is intended for personal use only and does not represent any investment advice or recommendation of any form."
   ]
  },
  {
   "cell_type": "markdown",
   "id": "0d3ff8b7",
   "metadata": {},
   "source": [
    " "
   ]
  }
 ],
 "metadata": {
  "kernelspec": {
   "display_name": "Python 3 (ipykernel)",
   "language": "python",
   "name": "python3"
  },
  "language_info": {
   "codemirror_mode": {
    "name": "ipython",
    "version": 3
   },
   "file_extension": ".py",
   "mimetype": "text/x-python",
   "name": "python",
   "nbconvert_exporter": "python",
   "pygments_lexer": "ipython3",
   "version": "3.9.13"
  }
 },
 "nbformat": 4,
 "nbformat_minor": 5
}

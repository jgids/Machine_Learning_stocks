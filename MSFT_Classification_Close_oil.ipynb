{
 "cells": [
  {
   "cell_type": "code",
   "execution_count": 1,
   "id": "012f8317",
   "metadata": {},
   "outputs": [],
   "source": [
    "import requests\n",
    "import pandas as pd\n",
    "import numpy as np\n",
    "import yfinance as yf\n",
    "import talib\n",
    "import datetime as datetime\n",
    "import matplotlib.pyplot as plt\n",
    "\n",
    "from sklearn.model_selection import TimeSeriesSplit, cross_val_score\n",
    "from sklearn.metrics import accuracy_score\n",
    "from sklearn.model_selection import KFold\n",
    "from sklearn.tree import DecisionTreeClassifier\n",
    "from sklearn.pipeline import make_pipeline\n",
    "from sklearn.preprocessing import StandardScaler"
   ]
  },
  {
   "cell_type": "markdown",
   "id": "ee42038f",
   "metadata": {},
   "source": [
    "  "
   ]
  },
  {
   "cell_type": "markdown",
   "id": "f07d3f45",
   "metadata": {},
   "source": [
    "**1.- Import prices from the Yahoo Finance API:**"
   ]
  },
  {
   "cell_type": "code",
   "execution_count": 2,
   "id": "9010c839",
   "metadata": {},
   "outputs": [
    {
     "data": {
      "text/html": [
       "<div>\n",
       "<style scoped>\n",
       "    .dataframe tbody tr th:only-of-type {\n",
       "        vertical-align: middle;\n",
       "    }\n",
       "\n",
       "    .dataframe tbody tr th {\n",
       "        vertical-align: top;\n",
       "    }\n",
       "\n",
       "    .dataframe thead th {\n",
       "        text-align: right;\n",
       "    }\n",
       "</style>\n",
       "<table border=\"1\" class=\"dataframe\">\n",
       "  <thead>\n",
       "    <tr style=\"text-align: right;\">\n",
       "      <th></th>\n",
       "      <th>Open</th>\n",
       "      <th>High</th>\n",
       "      <th>Low</th>\n",
       "      <th>Close</th>\n",
       "      <th>Volume</th>\n",
       "      <th>Dividends</th>\n",
       "      <th>Stock Splits</th>\n",
       "    </tr>\n",
       "    <tr>\n",
       "      <th>Date</th>\n",
       "      <th></th>\n",
       "      <th></th>\n",
       "      <th></th>\n",
       "      <th></th>\n",
       "      <th></th>\n",
       "      <th></th>\n",
       "      <th></th>\n",
       "    </tr>\n",
       "  </thead>\n",
       "  <tbody>\n",
       "    <tr>\n",
       "      <th>1986-03-13 00:00:00-05:00</th>\n",
       "      <td>0.055241</td>\n",
       "      <td>0.063365</td>\n",
       "      <td>0.055241</td>\n",
       "      <td>0.060657</td>\n",
       "      <td>1031788800</td>\n",
       "      <td>0.0</td>\n",
       "      <td>0.0</td>\n",
       "    </tr>\n",
       "    <tr>\n",
       "      <th>1986-03-14 00:00:00-05:00</th>\n",
       "      <td>0.060657</td>\n",
       "      <td>0.063907</td>\n",
       "      <td>0.060657</td>\n",
       "      <td>0.062823</td>\n",
       "      <td>308160000</td>\n",
       "      <td>0.0</td>\n",
       "      <td>0.0</td>\n",
       "    </tr>\n",
       "    <tr>\n",
       "      <th>1986-03-17 00:00:00-05:00</th>\n",
       "      <td>0.062823</td>\n",
       "      <td>0.064448</td>\n",
       "      <td>0.062823</td>\n",
       "      <td>0.063907</td>\n",
       "      <td>133171200</td>\n",
       "      <td>0.0</td>\n",
       "      <td>0.0</td>\n",
       "    </tr>\n",
       "    <tr>\n",
       "      <th>1986-03-18 00:00:00-05:00</th>\n",
       "      <td>0.063907</td>\n",
       "      <td>0.064448</td>\n",
       "      <td>0.061740</td>\n",
       "      <td>0.062281</td>\n",
       "      <td>67766400</td>\n",
       "      <td>0.0</td>\n",
       "      <td>0.0</td>\n",
       "    </tr>\n",
       "    <tr>\n",
       "      <th>1986-03-19 00:00:00-05:00</th>\n",
       "      <td>0.062281</td>\n",
       "      <td>0.062823</td>\n",
       "      <td>0.060657</td>\n",
       "      <td>0.061198</td>\n",
       "      <td>47894400</td>\n",
       "      <td>0.0</td>\n",
       "      <td>0.0</td>\n",
       "    </tr>\n",
       "  </tbody>\n",
       "</table>\n",
       "</div>"
      ],
      "text/plain": [
       "                               Open      High       Low     Close      Volume  \\\n",
       "Date                                                                            \n",
       "1986-03-13 00:00:00-05:00  0.055241  0.063365  0.055241  0.060657  1031788800   \n",
       "1986-03-14 00:00:00-05:00  0.060657  0.063907  0.060657  0.062823   308160000   \n",
       "1986-03-17 00:00:00-05:00  0.062823  0.064448  0.062823  0.063907   133171200   \n",
       "1986-03-18 00:00:00-05:00  0.063907  0.064448  0.061740  0.062281    67766400   \n",
       "1986-03-19 00:00:00-05:00  0.062281  0.062823  0.060657  0.061198    47894400   \n",
       "\n",
       "                           Dividends  Stock Splits  \n",
       "Date                                                \n",
       "1986-03-13 00:00:00-05:00        0.0           0.0  \n",
       "1986-03-14 00:00:00-05:00        0.0           0.0  \n",
       "1986-03-17 00:00:00-05:00        0.0           0.0  \n",
       "1986-03-18 00:00:00-05:00        0.0           0.0  \n",
       "1986-03-19 00:00:00-05:00        0.0           0.0  "
      ]
     },
     "execution_count": 2,
     "metadata": {},
     "output_type": "execute_result"
    }
   ],
   "source": [
    "import yfinance as yf\n",
    "MSFT_yf = yf.Ticker('MSFT')\n",
    "MSFT = MSFT_yf.history(period='max')\n",
    "MSFT.head()"
   ]
  },
  {
   "cell_type": "code",
   "execution_count": 3,
   "id": "18f41610",
   "metadata": {},
   "outputs": [],
   "source": [
    "MSFT.index = pd.to_datetime(MSFT.index)"
   ]
  },
  {
   "cell_type": "code",
   "execution_count": 4,
   "id": "4bf3d884",
   "metadata": {},
   "outputs": [
    {
     "data": {
      "text/html": [
       "<div>\n",
       "<style scoped>\n",
       "    .dataframe tbody tr th:only-of-type {\n",
       "        vertical-align: middle;\n",
       "    }\n",
       "\n",
       "    .dataframe tbody tr th {\n",
       "        vertical-align: top;\n",
       "    }\n",
       "\n",
       "    .dataframe thead th {\n",
       "        text-align: right;\n",
       "    }\n",
       "</style>\n",
       "<table border=\"1\" class=\"dataframe\">\n",
       "  <thead>\n",
       "    <tr style=\"text-align: right;\">\n",
       "      <th></th>\n",
       "      <th>Open</th>\n",
       "      <th>High</th>\n",
       "      <th>Low</th>\n",
       "      <th>Close</th>\n",
       "      <th>Volume</th>\n",
       "      <th>Dividends</th>\n",
       "      <th>Stock Splits</th>\n",
       "    </tr>\n",
       "    <tr>\n",
       "      <th>Date</th>\n",
       "      <th></th>\n",
       "      <th></th>\n",
       "      <th></th>\n",
       "      <th></th>\n",
       "      <th></th>\n",
       "      <th></th>\n",
       "      <th></th>\n",
       "    </tr>\n",
       "  </thead>\n",
       "  <tbody>\n",
       "    <tr>\n",
       "      <th>1986-03-13 00:00:00-05:00</th>\n",
       "      <td>0.055241</td>\n",
       "      <td>0.063365</td>\n",
       "      <td>0.055241</td>\n",
       "      <td>0.060657</td>\n",
       "      <td>1031788800</td>\n",
       "      <td>0.0</td>\n",
       "      <td>0.0</td>\n",
       "    </tr>\n",
       "    <tr>\n",
       "      <th>1986-03-14 00:00:00-05:00</th>\n",
       "      <td>0.060657</td>\n",
       "      <td>0.063907</td>\n",
       "      <td>0.060657</td>\n",
       "      <td>0.062823</td>\n",
       "      <td>308160000</td>\n",
       "      <td>0.0</td>\n",
       "      <td>0.0</td>\n",
       "    </tr>\n",
       "    <tr>\n",
       "      <th>1986-03-17 00:00:00-05:00</th>\n",
       "      <td>0.062823</td>\n",
       "      <td>0.064448</td>\n",
       "      <td>0.062823</td>\n",
       "      <td>0.063907</td>\n",
       "      <td>133171200</td>\n",
       "      <td>0.0</td>\n",
       "      <td>0.0</td>\n",
       "    </tr>\n",
       "    <tr>\n",
       "      <th>1986-03-18 00:00:00-05:00</th>\n",
       "      <td>0.063907</td>\n",
       "      <td>0.064448</td>\n",
       "      <td>0.061740</td>\n",
       "      <td>0.062281</td>\n",
       "      <td>67766400</td>\n",
       "      <td>0.0</td>\n",
       "      <td>0.0</td>\n",
       "    </tr>\n",
       "    <tr>\n",
       "      <th>1986-03-19 00:00:00-05:00</th>\n",
       "      <td>0.062281</td>\n",
       "      <td>0.062823</td>\n",
       "      <td>0.060657</td>\n",
       "      <td>0.061198</td>\n",
       "      <td>47894400</td>\n",
       "      <td>0.0</td>\n",
       "      <td>0.0</td>\n",
       "    </tr>\n",
       "  </tbody>\n",
       "</table>\n",
       "</div>"
      ],
      "text/plain": [
       "                               Open      High       Low     Close      Volume  \\\n",
       "Date                                                                            \n",
       "1986-03-13 00:00:00-05:00  0.055241  0.063365  0.055241  0.060657  1031788800   \n",
       "1986-03-14 00:00:00-05:00  0.060657  0.063907  0.060657  0.062823   308160000   \n",
       "1986-03-17 00:00:00-05:00  0.062823  0.064448  0.062823  0.063907   133171200   \n",
       "1986-03-18 00:00:00-05:00  0.063907  0.064448  0.061740  0.062281    67766400   \n",
       "1986-03-19 00:00:00-05:00  0.062281  0.062823  0.060657  0.061198    47894400   \n",
       "\n",
       "                           Dividends  Stock Splits  \n",
       "Date                                                \n",
       "1986-03-13 00:00:00-05:00        0.0           0.0  \n",
       "1986-03-14 00:00:00-05:00        0.0           0.0  \n",
       "1986-03-17 00:00:00-05:00        0.0           0.0  \n",
       "1986-03-18 00:00:00-05:00        0.0           0.0  \n",
       "1986-03-19 00:00:00-05:00        0.0           0.0  "
      ]
     },
     "execution_count": 4,
     "metadata": {},
     "output_type": "execute_result"
    }
   ],
   "source": [
    "MSFT.head()"
   ]
  },
  {
   "cell_type": "code",
   "execution_count": 5,
   "id": "652ed7ac",
   "metadata": {},
   "outputs": [
    {
     "data": {
      "text/html": [
       "<div>\n",
       "<style scoped>\n",
       "    .dataframe tbody tr th:only-of-type {\n",
       "        vertical-align: middle;\n",
       "    }\n",
       "\n",
       "    .dataframe tbody tr th {\n",
       "        vertical-align: top;\n",
       "    }\n",
       "\n",
       "    .dataframe thead th {\n",
       "        text-align: right;\n",
       "    }\n",
       "</style>\n",
       "<table border=\"1\" class=\"dataframe\">\n",
       "  <thead>\n",
       "    <tr style=\"text-align: right;\">\n",
       "      <th></th>\n",
       "      <th>Open</th>\n",
       "      <th>High</th>\n",
       "      <th>Low</th>\n",
       "      <th>Close</th>\n",
       "      <th>Volume</th>\n",
       "      <th>Dividends</th>\n",
       "      <th>Stock Splits</th>\n",
       "    </tr>\n",
       "    <tr>\n",
       "      <th>Date</th>\n",
       "      <th></th>\n",
       "      <th></th>\n",
       "      <th></th>\n",
       "      <th></th>\n",
       "      <th></th>\n",
       "      <th></th>\n",
       "      <th></th>\n",
       "    </tr>\n",
       "  </thead>\n",
       "  <tbody>\n",
       "    <tr>\n",
       "      <th>1986-03-13</th>\n",
       "      <td>0.055241</td>\n",
       "      <td>0.063365</td>\n",
       "      <td>0.055241</td>\n",
       "      <td>0.060657</td>\n",
       "      <td>1031788800</td>\n",
       "      <td>0.0</td>\n",
       "      <td>0.0</td>\n",
       "    </tr>\n",
       "    <tr>\n",
       "      <th>1986-03-14</th>\n",
       "      <td>0.060657</td>\n",
       "      <td>0.063907</td>\n",
       "      <td>0.060657</td>\n",
       "      <td>0.062823</td>\n",
       "      <td>308160000</td>\n",
       "      <td>0.0</td>\n",
       "      <td>0.0</td>\n",
       "    </tr>\n",
       "    <tr>\n",
       "      <th>1986-03-17</th>\n",
       "      <td>0.062823</td>\n",
       "      <td>0.064448</td>\n",
       "      <td>0.062823</td>\n",
       "      <td>0.063907</td>\n",
       "      <td>133171200</td>\n",
       "      <td>0.0</td>\n",
       "      <td>0.0</td>\n",
       "    </tr>\n",
       "    <tr>\n",
       "      <th>1986-03-18</th>\n",
       "      <td>0.063907</td>\n",
       "      <td>0.064448</td>\n",
       "      <td>0.061740</td>\n",
       "      <td>0.062281</td>\n",
       "      <td>67766400</td>\n",
       "      <td>0.0</td>\n",
       "      <td>0.0</td>\n",
       "    </tr>\n",
       "    <tr>\n",
       "      <th>1986-03-19</th>\n",
       "      <td>0.062281</td>\n",
       "      <td>0.062823</td>\n",
       "      <td>0.060657</td>\n",
       "      <td>0.061198</td>\n",
       "      <td>47894400</td>\n",
       "      <td>0.0</td>\n",
       "      <td>0.0</td>\n",
       "    </tr>\n",
       "  </tbody>\n",
       "</table>\n",
       "</div>"
      ],
      "text/plain": [
       "                Open      High       Low     Close      Volume  Dividends  \\\n",
       "Date                                                                        \n",
       "1986-03-13  0.055241  0.063365  0.055241  0.060657  1031788800        0.0   \n",
       "1986-03-14  0.060657  0.063907  0.060657  0.062823   308160000        0.0   \n",
       "1986-03-17  0.062823  0.064448  0.062823  0.063907   133171200        0.0   \n",
       "1986-03-18  0.063907  0.064448  0.061740  0.062281    67766400        0.0   \n",
       "1986-03-19  0.062281  0.062823  0.060657  0.061198    47894400        0.0   \n",
       "\n",
       "            Stock Splits  \n",
       "Date                      \n",
       "1986-03-13           0.0  \n",
       "1986-03-14           0.0  \n",
       "1986-03-17           0.0  \n",
       "1986-03-18           0.0  \n",
       "1986-03-19           0.0  "
      ]
     },
     "execution_count": 5,
     "metadata": {},
     "output_type": "execute_result"
    }
   ],
   "source": [
    "MSFT.index = MSFT.index.strftime('%Y-%m-%d')\n",
    "MSFT.head()"
   ]
  },
  {
   "cell_type": "code",
   "execution_count": 6,
   "id": "40c20fa3",
   "metadata": {},
   "outputs": [],
   "source": [
    "MSFT.index = pd.to_datetime(MSFT.index)"
   ]
  },
  {
   "cell_type": "markdown",
   "id": "50f6de95",
   "metadata": {},
   "source": [
    " "
   ]
  },
  {
   "cell_type": "markdown",
   "id": "e9eb20ce",
   "metadata": {},
   "source": [
    "**2.- Obtain the target variable**"
   ]
  },
  {
   "cell_type": "markdown",
   "id": "6eff32cf",
   "metadata": {},
   "source": [
    "First we are going to create the target variable. As we are going to study the prediction from a categorical point of view, we are going to build a column where 1 means that the closing price is higher than the open price and 0 means a decrease in price. \n",
    "\n",
    "To start with, we are going to create a new column that calculates the difference between the close and open price:"
   ]
  },
  {
   "cell_type": "code",
   "execution_count": 7,
   "id": "e5d78f87",
   "metadata": {},
   "outputs": [],
   "source": [
    "MSFT['Daily change'] = MSFT['Close'] - MSFT['Open']"
   ]
  },
  {
   "cell_type": "markdown",
   "id": "5d268a6b",
   "metadata": {},
   "source": [
    "Now we are going to convert the column to a binary variable:"
   ]
  },
  {
   "cell_type": "code",
   "execution_count": 8,
   "id": "237e3ddd",
   "metadata": {},
   "outputs": [
    {
     "data": {
      "text/html": [
       "<div>\n",
       "<style scoped>\n",
       "    .dataframe tbody tr th:only-of-type {\n",
       "        vertical-align: middle;\n",
       "    }\n",
       "\n",
       "    .dataframe tbody tr th {\n",
       "        vertical-align: top;\n",
       "    }\n",
       "\n",
       "    .dataframe thead th {\n",
       "        text-align: right;\n",
       "    }\n",
       "</style>\n",
       "<table border=\"1\" class=\"dataframe\">\n",
       "  <thead>\n",
       "    <tr style=\"text-align: right;\">\n",
       "      <th></th>\n",
       "      <th>Open</th>\n",
       "      <th>High</th>\n",
       "      <th>Low</th>\n",
       "      <th>Close</th>\n",
       "      <th>Volume</th>\n",
       "      <th>Dividends</th>\n",
       "      <th>Stock Splits</th>\n",
       "      <th>Daily change</th>\n",
       "    </tr>\n",
       "    <tr>\n",
       "      <th>Date</th>\n",
       "      <th></th>\n",
       "      <th></th>\n",
       "      <th></th>\n",
       "      <th></th>\n",
       "      <th></th>\n",
       "      <th></th>\n",
       "      <th></th>\n",
       "      <th></th>\n",
       "    </tr>\n",
       "  </thead>\n",
       "  <tbody>\n",
       "    <tr>\n",
       "      <th>1986-03-13</th>\n",
       "      <td>0.055241</td>\n",
       "      <td>0.063365</td>\n",
       "      <td>0.055241</td>\n",
       "      <td>0.060657</td>\n",
       "      <td>1031788800</td>\n",
       "      <td>0.0</td>\n",
       "      <td>0.0</td>\n",
       "      <td>1.0</td>\n",
       "    </tr>\n",
       "    <tr>\n",
       "      <th>1986-03-14</th>\n",
       "      <td>0.060657</td>\n",
       "      <td>0.063907</td>\n",
       "      <td>0.060657</td>\n",
       "      <td>0.062823</td>\n",
       "      <td>308160000</td>\n",
       "      <td>0.0</td>\n",
       "      <td>0.0</td>\n",
       "      <td>1.0</td>\n",
       "    </tr>\n",
       "    <tr>\n",
       "      <th>1986-03-17</th>\n",
       "      <td>0.062823</td>\n",
       "      <td>0.064448</td>\n",
       "      <td>0.062823</td>\n",
       "      <td>0.063907</td>\n",
       "      <td>133171200</td>\n",
       "      <td>0.0</td>\n",
       "      <td>0.0</td>\n",
       "      <td>1.0</td>\n",
       "    </tr>\n",
       "    <tr>\n",
       "      <th>1986-03-18</th>\n",
       "      <td>0.063907</td>\n",
       "      <td>0.064448</td>\n",
       "      <td>0.061740</td>\n",
       "      <td>0.062281</td>\n",
       "      <td>67766400</td>\n",
       "      <td>0.0</td>\n",
       "      <td>0.0</td>\n",
       "      <td>0.0</td>\n",
       "    </tr>\n",
       "    <tr>\n",
       "      <th>1986-03-19</th>\n",
       "      <td>0.062281</td>\n",
       "      <td>0.062823</td>\n",
       "      <td>0.060657</td>\n",
       "      <td>0.061198</td>\n",
       "      <td>47894400</td>\n",
       "      <td>0.0</td>\n",
       "      <td>0.0</td>\n",
       "      <td>0.0</td>\n",
       "    </tr>\n",
       "  </tbody>\n",
       "</table>\n",
       "</div>"
      ],
      "text/plain": [
       "                Open      High       Low     Close      Volume  Dividends  \\\n",
       "Date                                                                        \n",
       "1986-03-13  0.055241  0.063365  0.055241  0.060657  1031788800        0.0   \n",
       "1986-03-14  0.060657  0.063907  0.060657  0.062823   308160000        0.0   \n",
       "1986-03-17  0.062823  0.064448  0.062823  0.063907   133171200        0.0   \n",
       "1986-03-18  0.063907  0.064448  0.061740  0.062281    67766400        0.0   \n",
       "1986-03-19  0.062281  0.062823  0.060657  0.061198    47894400        0.0   \n",
       "\n",
       "            Stock Splits  Daily change  \n",
       "Date                                    \n",
       "1986-03-13           0.0           1.0  \n",
       "1986-03-14           0.0           1.0  \n",
       "1986-03-17           0.0           1.0  \n",
       "1986-03-18           0.0           0.0  \n",
       "1986-03-19           0.0           0.0  "
      ]
     },
     "execution_count": 8,
     "metadata": {},
     "output_type": "execute_result"
    }
   ],
   "source": [
    "def func(x):\n",
    "    if x > 0:\n",
    "        return 1\n",
    "    elif x < 0:\n",
    "        return 0\n",
    "    \n",
    "\n",
    "MSFT['Daily change']  = MSFT['Daily change'] .apply(func)\n",
    "MSFT.head()"
   ]
  },
  {
   "cell_type": "markdown",
   "id": "1cba7d0d",
   "metadata": {},
   "source": [
    "Now we are going to build a new DataFrame where we are going to initially start with the target variable (Daily change), one independent variable (yesterdays's daily change) and continuously add one by one variable to test the accuracy of the model:"
   ]
  },
  {
   "cell_type": "code",
   "execution_count": 9,
   "id": "f88d1c7c",
   "metadata": {},
   "outputs": [],
   "source": [
    "MSFT ['Yesterday daily change'] = MSFT ['Daily change'].shift(1)"
   ]
  },
  {
   "cell_type": "code",
   "execution_count": 10,
   "id": "f5b4ad6d",
   "metadata": {},
   "outputs": [],
   "source": [
    "df = MSFT [['Daily change', 'Yesterday daily change']]"
   ]
  },
  {
   "cell_type": "markdown",
   "id": "6d2f1ea1",
   "metadata": {},
   "source": [
    " "
   ]
  },
  {
   "cell_type": "markdown",
   "id": "7a89c0f2",
   "metadata": {},
   "source": [
    "**3.- Clean the dataset**"
   ]
  },
  {
   "cell_type": "markdown",
   "id": "1b119959",
   "metadata": {},
   "source": [
    "Next, we need to **remove the NaN values**, because most ML models do not work with NaN values:"
   ]
  },
  {
   "cell_type": "code",
   "execution_count": 11,
   "id": "17a7ea62",
   "metadata": {},
   "outputs": [],
   "source": [
    "df = df[1:]"
   ]
  },
  {
   "cell_type": "code",
   "execution_count": 12,
   "id": "67a029f4",
   "metadata": {},
   "outputs": [],
   "source": [
    "df = df.fillna(0)"
   ]
  },
  {
   "cell_type": "markdown",
   "id": "c10b6704",
   "metadata": {},
   "source": [
    " "
   ]
  },
  {
   "cell_type": "markdown",
   "id": "9fd09293",
   "metadata": {},
   "source": [
    "**4.- Training and evaluation of the model**"
   ]
  },
  {
   "cell_type": "markdown",
   "id": "334953af",
   "metadata": {},
   "source": [
    "Performing a train test split is not accurate enough to test the performance of Machine Learning models. A more accurate procedure is to perform **Cross-Validation**.\n",
    "\n",
    "Cross-Validation on time series is not performed as on standard cases. There are two main methods to perform Cross-Validation on time series: time series split and blocked cross-validation. **Time series split** starts with a small train gap and small test gap and increases the train gap until all the dataset is evaluated. On the other side, **blocked cross-validation** uses the same size of train and test and rolls the window to the next subset of the dataset.\n",
    "\n",
    "We are now going to use blocked cross-validation because the windows do not overlap in time and the dataset is big enough to use this technique. "
   ]
  },
  {
   "cell_type": "code",
   "execution_count": 13,
   "id": "e5c8510e",
   "metadata": {},
   "outputs": [],
   "source": [
    "class BlockingTimeSeriesSplit():\n",
    "    def __init__(self, n_splits):\n",
    "        self.n_splits = n_splits\n",
    "    \n",
    "    def get_n_splits(self, X, y, groups):\n",
    "        return self.n_splits\n",
    "    \n",
    "    def split(self, X, y=None, groups=None):\n",
    "        n_samples = len(X)\n",
    "        k_fold_size = n_samples // self.n_splits\n",
    "        indices = np.arange(n_samples)\n",
    "\n",
    "        margin = 0\n",
    "        for i in range(self.n_splits):\n",
    "            start = i * k_fold_size\n",
    "            stop = start + k_fold_size\n",
    "            mid = int(0.8 * (stop - start)) + start\n",
    "            yield indices[start: mid], indices[mid + margin: stop]"
   ]
  },
  {
   "cell_type": "markdown",
   "id": "e7793649",
   "metadata": {},
   "source": [
    "We now **split the data into train and test**. The split number will help us take 75% of the data for the training and the remaining 25% for the test subset. The new matrix X is create to **consider only the independent variables**. If we would consider all the columns (including the target variable) the accuracy would be 100% because the model would be capable of knowing the correct answer beforehand. The **target variable is the 'Daily change' column.**"
   ]
  },
  {
   "cell_type": "code",
   "execution_count": 14,
   "id": "90126ab9",
   "metadata": {},
   "outputs": [],
   "source": [
    "# Training dataset length\n",
    "split = int(len(df) * 0.75)\n",
    "\n",
    "# Splitting the X and y into train and test datasets\n",
    "X = df.drop(['Daily change'], axis=1)\n",
    "X_train = X[:split]\n",
    "X_test = X[split:]\n",
    "y_train = df['Daily change'][:split]\n",
    "y_test = df['Daily change'][split:]"
   ]
  },
  {
   "cell_type": "markdown",
   "id": "af9c3ff9",
   "metadata": {},
   "source": [
    "Next, we are going to perform cross-validation and evalate the mean and standard deviation of the accuracies of the splitted fragments."
   ]
  },
  {
   "cell_type": "code",
   "execution_count": 15,
   "id": "335c5201",
   "metadata": {},
   "outputs": [
    {
     "name": "stdout",
     "output_type": "stream",
     "text": [
      "Loss: 0.490 (+/- 0.023)\n"
     ]
    }
   ],
   "source": [
    "model = DecisionTreeClassifier(random_state=12)\n",
    "btscv = BlockingTimeSeriesSplit(n_splits=5)\n",
    "scores = cross_val_score(model, X_train, y_train, cv=btscv, scoring='accuracy')\n",
    "print(\"Loss: {0:.3f} (+/- {1:.3f})\".format(scores.mean(), scores.std()))"
   ]
  },
  {
   "cell_type": "markdown",
   "id": "a9c0b6d8",
   "metadata": {},
   "source": [
    "We finally apply adnt evaluate the model on the test subset."
   ]
  },
  {
   "cell_type": "code",
   "execution_count": 16,
   "id": "7b5b2173",
   "metadata": {},
   "outputs": [
    {
     "data": {
      "text/plain": [
       "47.179"
      ]
     },
     "execution_count": 16,
     "metadata": {},
     "output_type": "execute_result"
    }
   ],
   "source": [
    "clf = DecisionTreeClassifier(random_state=12)\n",
    "model = clf.fit(X_train, y_train)\n",
    "round(accuracy_score(y_test, model.predict(X_test), normalize=True)*100, 3)"
   ]
  },
  {
   "cell_type": "markdown",
   "id": "08203d3e",
   "metadata": {},
   "source": [
    "As we can see, **if yesterday the price change was positive or negative does not offer any predictive power**."
   ]
  },
  {
   "cell_type": "markdown",
   "id": "0d3ff8b7",
   "metadata": {},
   "source": [
    " "
   ]
  },
  {
   "cell_type": "markdown",
   "id": "4126019b",
   "metadata": {},
   "source": [
    "**5.- Model improvement**"
   ]
  },
  {
   "cell_type": "markdown",
   "id": "2bf07e2e",
   "metadata": {},
   "source": [
    "Now we are going to train more models based on price and other variables we will add."
   ]
  },
  {
   "cell_type": "markdown",
   "id": "97a837fd",
   "metadata": {},
   "source": [
    "**5.1.- Multi-category price change**"
   ]
  },
  {
   "cell_type": "markdown",
   "id": "5d587906",
   "metadata": {},
   "source": [
    "This model consists of having the price change rounded as an integer"
   ]
  },
  {
   "cell_type": "code",
   "execution_count": 17,
   "id": "711af025",
   "metadata": {},
   "outputs": [],
   "source": [
    "df1 = pd.DataFrame()\n",
    "df1 ['Daily change'] = df['Daily change']"
   ]
  },
  {
   "cell_type": "code",
   "execution_count": 18,
   "id": "7860e7f0",
   "metadata": {},
   "outputs": [],
   "source": [
    "df1 ['Yesterday daily change'] = round(((MSFT['Close']-MSFT['Open'])/MSFT['Close'])*100, 0).shift(1)"
   ]
  },
  {
   "cell_type": "code",
   "execution_count": 19,
   "id": "4d336ae2",
   "metadata": {},
   "outputs": [
    {
     "data": {
      "text/html": [
       "<div>\n",
       "<style scoped>\n",
       "    .dataframe tbody tr th:only-of-type {\n",
       "        vertical-align: middle;\n",
       "    }\n",
       "\n",
       "    .dataframe tbody tr th {\n",
       "        vertical-align: top;\n",
       "    }\n",
       "\n",
       "    .dataframe thead th {\n",
       "        text-align: right;\n",
       "    }\n",
       "</style>\n",
       "<table border=\"1\" class=\"dataframe\">\n",
       "  <thead>\n",
       "    <tr style=\"text-align: right;\">\n",
       "      <th></th>\n",
       "      <th>Daily change</th>\n",
       "      <th>Yesterday daily change</th>\n",
       "    </tr>\n",
       "    <tr>\n",
       "      <th>Date</th>\n",
       "      <th></th>\n",
       "      <th></th>\n",
       "    </tr>\n",
       "  </thead>\n",
       "  <tbody>\n",
       "    <tr>\n",
       "      <th>1986-03-14</th>\n",
       "      <td>1.0</td>\n",
       "      <td>9.0</td>\n",
       "    </tr>\n",
       "    <tr>\n",
       "      <th>1986-03-17</th>\n",
       "      <td>1.0</td>\n",
       "      <td>3.0</td>\n",
       "    </tr>\n",
       "    <tr>\n",
       "      <th>1986-03-18</th>\n",
       "      <td>0.0</td>\n",
       "      <td>2.0</td>\n",
       "    </tr>\n",
       "    <tr>\n",
       "      <th>1986-03-19</th>\n",
       "      <td>0.0</td>\n",
       "      <td>-3.0</td>\n",
       "    </tr>\n",
       "    <tr>\n",
       "      <th>1986-03-20</th>\n",
       "      <td>0.0</td>\n",
       "      <td>-2.0</td>\n",
       "    </tr>\n",
       "  </tbody>\n",
       "</table>\n",
       "</div>"
      ],
      "text/plain": [
       "            Daily change  Yesterday daily change\n",
       "Date                                            \n",
       "1986-03-14           1.0                     9.0\n",
       "1986-03-17           1.0                     3.0\n",
       "1986-03-18           0.0                     2.0\n",
       "1986-03-19           0.0                    -3.0\n",
       "1986-03-20           0.0                    -2.0"
      ]
     },
     "execution_count": 19,
     "metadata": {},
     "output_type": "execute_result"
    }
   ],
   "source": [
    "df1.head()"
   ]
  },
  {
   "cell_type": "code",
   "execution_count": 20,
   "id": "c64b6e37",
   "metadata": {},
   "outputs": [],
   "source": [
    "X1 = df1.drop(['Daily change'], axis=1)\n",
    "X1_train = X1[:split]\n",
    "X1_test = X1[split:]\n",
    "y1_train = df1['Daily change'][:split]\n",
    "y1_test = df1['Daily change'][split:]"
   ]
  },
  {
   "cell_type": "code",
   "execution_count": 21,
   "id": "747cbf60",
   "metadata": {},
   "outputs": [
    {
     "name": "stdout",
     "output_type": "stream",
     "text": [
      "Loss: 0.495 (+/- 0.021)\n"
     ]
    }
   ],
   "source": [
    "model = DecisionTreeClassifier(random_state=12)\n",
    "btscv = BlockingTimeSeriesSplit(n_splits=5)\n",
    "scores = cross_val_score(model, X1_train, y1_train, cv=btscv, scoring='accuracy')\n",
    "print(\"Loss: {0:.3f} (+/- {1:.3f})\".format(scores.mean(), scores.std()))"
   ]
  },
  {
   "cell_type": "code",
   "execution_count": 22,
   "id": "d626c6fb",
   "metadata": {},
   "outputs": [
    {
     "data": {
      "text/plain": [
       "48.162"
      ]
     },
     "execution_count": 22,
     "metadata": {},
     "output_type": "execute_result"
    }
   ],
   "source": [
    "clf = DecisionTreeClassifier(random_state=12)\n",
    "model = clf.fit(X1_train, y1_train)\n",
    "round(accuracy_score(y1_test, model.predict(X1_test), normalize=True)*100, 3)"
   ]
  },
  {
   "cell_type": "markdown",
   "id": "c51a06f7",
   "metadata": {},
   "source": [
    "As we can see, using yesterday's percentage change is not useful to forecast if today is going to be a positive or negative day."
   ]
  },
  {
   "cell_type": "markdown",
   "id": "00991d7e",
   "metadata": {},
   "source": [
    " "
   ]
  },
  {
   "cell_type": "markdown",
   "id": "3c51cd9a",
   "metadata": {},
   "source": [
    "**5.2.- Shadows of candles**"
   ]
  },
  {
   "cell_type": "code",
   "execution_count": 23,
   "id": "eee05f59",
   "metadata": {},
   "outputs": [],
   "source": [
    "df2 = df1"
   ]
  },
  {
   "cell_type": "code",
   "execution_count": 24,
   "id": "1e639fac",
   "metadata": {},
   "outputs": [],
   "source": [
    "df2 ['Yest_upper_shadow1'] = ((MSFT['High'] - MSFT['Close']) / MSFT['Close'])*100\n",
    "df2 ['Yest_upper_shadow2'] = ((MSFT['High'] - MSFT['Open']) / MSFT['Close'])*100\n",
    "df2 ['Yest_lower_shadow1'] = ((MSFT['Close'] - MSFT['Low']) / MSFT['Close'])*100\n",
    "df2 ['Yest_lower_shadow2'] = ((MSFT['Open'] - MSFT['Low']) / MSFT['Close'])*100\n",
    "df2 ['Yest_upper_shadow'] = df2 [['Yest_upper_shadow1', 'Yest_upper_shadow2']].min(axis=1)\n",
    "df2 ['Yest_lower_shadow'] = df2 [['Yest_lower_shadow1', 'Yest_lower_shadow2']].min(axis=1)"
   ]
  },
  {
   "cell_type": "code",
   "execution_count": 25,
   "id": "d5e0fdea",
   "metadata": {},
   "outputs": [
    {
     "data": {
      "text/html": [
       "<div>\n",
       "<style scoped>\n",
       "    .dataframe tbody tr th:only-of-type {\n",
       "        vertical-align: middle;\n",
       "    }\n",
       "\n",
       "    .dataframe tbody tr th {\n",
       "        vertical-align: top;\n",
       "    }\n",
       "\n",
       "    .dataframe thead th {\n",
       "        text-align: right;\n",
       "    }\n",
       "</style>\n",
       "<table border=\"1\" class=\"dataframe\">\n",
       "  <thead>\n",
       "    <tr style=\"text-align: right;\">\n",
       "      <th></th>\n",
       "      <th>Daily change</th>\n",
       "      <th>Yesterday daily change</th>\n",
       "      <th>Yest_upper_shadow</th>\n",
       "      <th>Yest_lower_shadow</th>\n",
       "    </tr>\n",
       "    <tr>\n",
       "      <th>Date</th>\n",
       "      <th></th>\n",
       "      <th></th>\n",
       "      <th></th>\n",
       "      <th></th>\n",
       "    </tr>\n",
       "  </thead>\n",
       "  <tbody>\n",
       "    <tr>\n",
       "      <th>1986-03-14</th>\n",
       "      <td>1.0</td>\n",
       "      <td>9.0</td>\n",
       "      <td>1.725027</td>\n",
       "      <td>0.000000</td>\n",
       "    </tr>\n",
       "    <tr>\n",
       "      <th>1986-03-17</th>\n",
       "      <td>1.0</td>\n",
       "      <td>3.0</td>\n",
       "      <td>0.847400</td>\n",
       "      <td>0.000000</td>\n",
       "    </tr>\n",
       "    <tr>\n",
       "      <th>1986-03-18</th>\n",
       "      <td>0.0</td>\n",
       "      <td>2.0</td>\n",
       "      <td>0.869513</td>\n",
       "      <td>0.869513</td>\n",
       "    </tr>\n",
       "    <tr>\n",
       "      <th>1986-03-19</th>\n",
       "      <td>0.0</td>\n",
       "      <td>-3.0</td>\n",
       "      <td>0.884902</td>\n",
       "      <td>0.884902</td>\n",
       "    </tr>\n",
       "    <tr>\n",
       "      <th>1986-03-20</th>\n",
       "      <td>0.0</td>\n",
       "      <td>-2.0</td>\n",
       "      <td>0.000000</td>\n",
       "      <td>0.909034</td>\n",
       "    </tr>\n",
       "  </tbody>\n",
       "</table>\n",
       "</div>"
      ],
      "text/plain": [
       "            Daily change  Yesterday daily change  Yest_upper_shadow  \\\n",
       "Date                                                                  \n",
       "1986-03-14           1.0                     9.0           1.725027   \n",
       "1986-03-17           1.0                     3.0           0.847400   \n",
       "1986-03-18           0.0                     2.0           0.869513   \n",
       "1986-03-19           0.0                    -3.0           0.884902   \n",
       "1986-03-20           0.0                    -2.0           0.000000   \n",
       "\n",
       "            Yest_lower_shadow  \n",
       "Date                           \n",
       "1986-03-14           0.000000  \n",
       "1986-03-17           0.000000  \n",
       "1986-03-18           0.869513  \n",
       "1986-03-19           0.884902  \n",
       "1986-03-20           0.909034  "
      ]
     },
     "execution_count": 25,
     "metadata": {},
     "output_type": "execute_result"
    }
   ],
   "source": [
    "df2.drop(['Yest_upper_shadow1', 'Yest_upper_shadow2','Yest_lower_shadow1', 'Yest_lower_shadow2'], axis=1, inplace=True)\n",
    "df2.head()"
   ]
  },
  {
   "cell_type": "code",
   "execution_count": 26,
   "id": "f91dc9c0",
   "metadata": {},
   "outputs": [],
   "source": [
    "X2 = df2.drop(['Daily change'], axis=1)\n",
    "X2_train = X2[:split]\n",
    "X2_test = X2[split:]\n",
    "y2_train = df2['Daily change'][:split]\n",
    "y2_test = df2['Daily change'][split:]"
   ]
  },
  {
   "cell_type": "code",
   "execution_count": 27,
   "id": "7096fbc4",
   "metadata": {},
   "outputs": [
    {
     "name": "stdout",
     "output_type": "stream",
     "text": [
      "Loss: 0.520 (+/- 0.030)\n"
     ]
    }
   ],
   "source": [
    "model = DecisionTreeClassifier(random_state=12)\n",
    "btscv = BlockingTimeSeriesSplit(n_splits=5)\n",
    "scores = cross_val_score(model, X2_train, y2_train, cv=btscv, scoring='accuracy')\n",
    "print(\"Loss: {0:.3f} (+/- {1:.3f})\".format(scores.mean(), scores.std()))"
   ]
  },
  {
   "cell_type": "code",
   "execution_count": 28,
   "id": "7b38c56a",
   "metadata": {},
   "outputs": [
    {
     "data": {
      "text/plain": [
       "50.769"
      ]
     },
     "execution_count": 28,
     "metadata": {},
     "output_type": "execute_result"
    }
   ],
   "source": [
    "clf = DecisionTreeClassifier(random_state=12)\n",
    "model = clf.fit(X2_train, y2_train)\n",
    "round(accuracy_score(y2_test, model.predict(X2_test), normalize=True)*100, 3)"
   ]
  },
  {
   "cell_type": "markdown",
   "id": "4d016e1b",
   "metadata": {},
   "source": [
    "As we can see, the improvement is very small. "
   ]
  },
  {
   "cell_type": "markdown",
   "id": "fbfaf42e",
   "metadata": {},
   "source": [
    " "
   ]
  },
  {
   "cell_type": "markdown",
   "id": "2a84ce2c",
   "metadata": {},
   "source": [
    "**5.3.- Previous 3 days**"
   ]
  },
  {
   "cell_type": "markdown",
   "id": "dedfdc93",
   "metadata": {},
   "source": [
    "In this model, we are going to add the change of the previous 3 days. If the price has been very negative, it may be likely that a price reversal may happen:"
   ]
  },
  {
   "cell_type": "code",
   "execution_count": 29,
   "id": "ccaa1263",
   "metadata": {},
   "outputs": [],
   "source": [
    "df3 = df2"
   ]
  },
  {
   "cell_type": "code",
   "execution_count": 30,
   "id": "08c9b6ce",
   "metadata": {},
   "outputs": [],
   "source": [
    "df3 ['D-2 daily change'] = df3['Yesterday daily change'].shift(1)"
   ]
  },
  {
   "cell_type": "code",
   "execution_count": 31,
   "id": "9843f3d0",
   "metadata": {},
   "outputs": [],
   "source": [
    "df3 ['D-3 daily change'] = df3['Yesterday daily change'].shift(2)"
   ]
  },
  {
   "cell_type": "markdown",
   "id": "01d8867d",
   "metadata": {},
   "source": [
    "As many Machine Learning models do not work with NA values, let's fill the two NaNs with 0:"
   ]
  },
  {
   "cell_type": "code",
   "execution_count": 32,
   "id": "3a98fc4c",
   "metadata": {},
   "outputs": [],
   "source": [
    "df3 = df3.fillna(0)"
   ]
  },
  {
   "cell_type": "code",
   "execution_count": 33,
   "id": "607eff3c",
   "metadata": {},
   "outputs": [
    {
     "data": {
      "text/html": [
       "<div>\n",
       "<style scoped>\n",
       "    .dataframe tbody tr th:only-of-type {\n",
       "        vertical-align: middle;\n",
       "    }\n",
       "\n",
       "    .dataframe tbody tr th {\n",
       "        vertical-align: top;\n",
       "    }\n",
       "\n",
       "    .dataframe thead th {\n",
       "        text-align: right;\n",
       "    }\n",
       "</style>\n",
       "<table border=\"1\" class=\"dataframe\">\n",
       "  <thead>\n",
       "    <tr style=\"text-align: right;\">\n",
       "      <th></th>\n",
       "      <th>Daily change</th>\n",
       "      <th>Yesterday daily change</th>\n",
       "      <th>Yest_upper_shadow</th>\n",
       "      <th>Yest_lower_shadow</th>\n",
       "      <th>D-2 daily change</th>\n",
       "      <th>D-3 daily change</th>\n",
       "    </tr>\n",
       "    <tr>\n",
       "      <th>Date</th>\n",
       "      <th></th>\n",
       "      <th></th>\n",
       "      <th></th>\n",
       "      <th></th>\n",
       "      <th></th>\n",
       "      <th></th>\n",
       "    </tr>\n",
       "  </thead>\n",
       "  <tbody>\n",
       "    <tr>\n",
       "      <th>1986-03-14</th>\n",
       "      <td>1.0</td>\n",
       "      <td>9.0</td>\n",
       "      <td>1.725027</td>\n",
       "      <td>0.000000</td>\n",
       "      <td>0.0</td>\n",
       "      <td>0.0</td>\n",
       "    </tr>\n",
       "    <tr>\n",
       "      <th>1986-03-17</th>\n",
       "      <td>1.0</td>\n",
       "      <td>3.0</td>\n",
       "      <td>0.847400</td>\n",
       "      <td>0.000000</td>\n",
       "      <td>9.0</td>\n",
       "      <td>0.0</td>\n",
       "    </tr>\n",
       "    <tr>\n",
       "      <th>1986-03-18</th>\n",
       "      <td>0.0</td>\n",
       "      <td>2.0</td>\n",
       "      <td>0.869513</td>\n",
       "      <td>0.869513</td>\n",
       "      <td>3.0</td>\n",
       "      <td>9.0</td>\n",
       "    </tr>\n",
       "    <tr>\n",
       "      <th>1986-03-19</th>\n",
       "      <td>0.0</td>\n",
       "      <td>-3.0</td>\n",
       "      <td>0.884902</td>\n",
       "      <td>0.884902</td>\n",
       "      <td>2.0</td>\n",
       "      <td>3.0</td>\n",
       "    </tr>\n",
       "    <tr>\n",
       "      <th>1986-03-20</th>\n",
       "      <td>0.0</td>\n",
       "      <td>-2.0</td>\n",
       "      <td>0.000000</td>\n",
       "      <td>0.909034</td>\n",
       "      <td>-3.0</td>\n",
       "      <td>2.0</td>\n",
       "    </tr>\n",
       "  </tbody>\n",
       "</table>\n",
       "</div>"
      ],
      "text/plain": [
       "            Daily change  Yesterday daily change  Yest_upper_shadow  \\\n",
       "Date                                                                  \n",
       "1986-03-14           1.0                     9.0           1.725027   \n",
       "1986-03-17           1.0                     3.0           0.847400   \n",
       "1986-03-18           0.0                     2.0           0.869513   \n",
       "1986-03-19           0.0                    -3.0           0.884902   \n",
       "1986-03-20           0.0                    -2.0           0.000000   \n",
       "\n",
       "            Yest_lower_shadow  D-2 daily change  D-3 daily change  \n",
       "Date                                                               \n",
       "1986-03-14           0.000000               0.0               0.0  \n",
       "1986-03-17           0.000000               9.0               0.0  \n",
       "1986-03-18           0.869513               3.0               9.0  \n",
       "1986-03-19           0.884902               2.0               3.0  \n",
       "1986-03-20           0.909034              -3.0               2.0  "
      ]
     },
     "execution_count": 33,
     "metadata": {},
     "output_type": "execute_result"
    }
   ],
   "source": [
    "df3.head()"
   ]
  },
  {
   "cell_type": "code",
   "execution_count": 34,
   "id": "b71e2584",
   "metadata": {},
   "outputs": [],
   "source": [
    "X3 = df3.drop(['Daily change'], axis=1)\n",
    "X3_train = X3[:split]\n",
    "X3_test = X3[split:]\n",
    "y3_train = df3['Daily change'][:split]\n",
    "y3_test = df3['Daily change'][split:]"
   ]
  },
  {
   "cell_type": "code",
   "execution_count": 35,
   "id": "311def48",
   "metadata": {},
   "outputs": [
    {
     "name": "stdout",
     "output_type": "stream",
     "text": [
      "Loss: 0.505 (+/- 0.036)\n"
     ]
    }
   ],
   "source": [
    "model3 = DecisionTreeClassifier(random_state=12)\n",
    "btscv = BlockingTimeSeriesSplit(n_splits=5)\n",
    "scores3 = cross_val_score(model3, X3_train, y3_train, cv=btscv, scoring='accuracy')\n",
    "print(\"Loss: {0:.3f} (+/- {1:.3f})\".format(scores3.mean(), scores3.std()))"
   ]
  },
  {
   "cell_type": "code",
   "execution_count": 36,
   "id": "dcfe7e23",
   "metadata": {},
   "outputs": [
    {
     "data": {
      "text/plain": [
       "49.872"
      ]
     },
     "execution_count": 36,
     "metadata": {},
     "output_type": "execute_result"
    }
   ],
   "source": [
    "clf3 = DecisionTreeClassifier(random_state=12)\n",
    "model3 = clf3.fit(X3_train, y3_train)\n",
    "round(accuracy_score(y3_test, model3.predict(X3_test), normalize=True)*100, 3)"
   ]
  },
  {
   "cell_type": "markdown",
   "id": "876cffff",
   "metadata": {},
   "source": [
    "  "
   ]
  },
  {
   "cell_type": "markdown",
   "id": "22862118",
   "metadata": {},
   "source": [
    "**5.6.- Oil price**"
   ]
  },
  {
   "cell_type": "markdown",
   "id": "bfee2003",
   "metadata": {},
   "source": [
    "To start with, we import oil price from Yahoo! Finance API:"
   ]
  },
  {
   "cell_type": "code",
   "execution_count": 37,
   "id": "57b2c0ce",
   "metadata": {},
   "outputs": [
    {
     "name": "stdout",
     "output_type": "stream",
     "text": [
      "[*********************100%***********************]  1 of 1 completed\n"
     ]
    }
   ],
   "source": [
    "oil_price = yf.download('CL=F', period='max')"
   ]
  },
  {
   "cell_type": "markdown",
   "id": "e8abdbe6",
   "metadata": {},
   "source": [
    "We build a DataFrame as a copy of the previous DataFrame and add oil price as the difference between yesterday's close and open:"
   ]
  },
  {
   "cell_type": "code",
   "execution_count": 38,
   "id": "37629473",
   "metadata": {},
   "outputs": [],
   "source": [
    "df6_2 = df3.copy()"
   ]
  },
  {
   "cell_type": "code",
   "execution_count": 39,
   "id": "ef2daa9f",
   "metadata": {},
   "outputs": [],
   "source": [
    "df6_2 ['oil_price'] = oil_price ['Close']"
   ]
  },
  {
   "cell_type": "code",
   "execution_count": 40,
   "id": "9ee9e83b",
   "metadata": {},
   "outputs": [],
   "source": [
    "df6_2 ['yest_oil_diff'] = ((oil_price ['Close'].shift(1) - oil_price ['Open'].shift(1))/(oil_price['Close'].shift(1)))*100"
   ]
  },
  {
   "cell_type": "markdown",
   "id": "fa7cc794",
   "metadata": {},
   "source": [
    "There are 21 observations where the oil price and the difference are NaN. As the oil price may have no prediction power by itself, let's assign the previous day's close price. As there are very little missing values for yesterday's oil price difference, let's assign a value of 0:"
   ]
  },
  {
   "cell_type": "code",
   "execution_count": 41,
   "id": "4473258f",
   "metadata": {},
   "outputs": [],
   "source": [
    "df6_2['oil_price'].fillna(df6_2['oil_price'].shift(1), inplace=True)"
   ]
  },
  {
   "cell_type": "code",
   "execution_count": 42,
   "id": "0baa96b3",
   "metadata": {},
   "outputs": [],
   "source": [
    "df6_2['yest_oil_diff'].fillna(0, inplace=True)"
   ]
  },
  {
   "cell_type": "markdown",
   "id": "39dffb14",
   "metadata": {},
   "source": [
    "As the data available for oil price is much shorter than the available data for Microsoft stock price, let's remove the observations of the DataFrame that contain NaN:"
   ]
  },
  {
   "cell_type": "code",
   "execution_count": 43,
   "id": "31ad55ef",
   "metadata": {},
   "outputs": [],
   "source": [
    "df6_2.dropna(inplace=True)"
   ]
  },
  {
   "cell_type": "markdown",
   "id": "fb10df0f",
   "metadata": {},
   "source": [
    "Now are ready to split the train and test subdatasets to prepare the data for the modelling:"
   ]
  },
  {
   "cell_type": "code",
   "execution_count": 44,
   "id": "ca4fe655",
   "metadata": {},
   "outputs": [],
   "source": [
    "# Training dataset length\n",
    "split6_2 = int(len(df6_2) * 0.75)\n",
    "\n",
    "# Splitting the X and y into train and test datasets\n",
    "X6_2 = df6_2.drop(['Daily change'], axis=1)\n",
    "X6_2train = X6_2[:split6_2]\n",
    "X6_2test = X6_2[split6_2:]\n",
    "y6_2train = df6_2['Daily change'][:split6_2]\n",
    "y6_2test = df6_2['Daily change'][split6_2:]"
   ]
  },
  {
   "cell_type": "code",
   "execution_count": 45,
   "id": "95118aab",
   "metadata": {},
   "outputs": [
    {
     "name": "stdout",
     "output_type": "stream",
     "text": [
      "Loss: 0.524 (+/- 0.047)\n"
     ]
    }
   ],
   "source": [
    "model6_2 = DecisionTreeClassifier(random_state=12)\n",
    "btscv6_2 = BlockingTimeSeriesSplit(n_splits=5)\n",
    "scores6_2 = cross_val_score(model6_2, X6_2train, y6_2train, cv=btscv6_2, scoring='accuracy')\n",
    "print(\"Loss: {0:.3f} (+/- {1:.3f})\".format(scores6_2.mean(), scores6_2.std()))"
   ]
  },
  {
   "cell_type": "code",
   "execution_count": 46,
   "id": "3241eec7",
   "metadata": {},
   "outputs": [
    {
     "data": {
      "text/plain": [
       "50.175"
      ]
     },
     "execution_count": 46,
     "metadata": {},
     "output_type": "execute_result"
    }
   ],
   "source": [
    "clf6_2 = DecisionTreeClassifier(random_state=12)\n",
    "model6_2 = clf6_2.fit(X6_2train, y6_2train)\n",
    "round(accuracy_score(y6_2test, model6_2.predict(X6_2test), normalize=True)*100, 3)"
   ]
  },
  {
   "cell_type": "markdown",
   "id": "90a74230",
   "metadata": {},
   "source": [
    "As we can see, the improvement of the model is unappreciable."
   ]
  },
  {
   "cell_type": "markdown",
   "id": "6264330d",
   "metadata": {},
   "source": [
    "Disclamer: The information on this notebook is intended for personal use only and does not represent any investment advice or recommendation of any form."
   ]
  }
 ],
 "metadata": {
  "kernelspec": {
   "display_name": "Python 3 (ipykernel)",
   "language": "python",
   "name": "python3"
  },
  "language_info": {
   "codemirror_mode": {
    "name": "ipython",
    "version": 3
   },
   "file_extension": ".py",
   "mimetype": "text/x-python",
   "name": "python",
   "nbconvert_exporter": "python",
   "pygments_lexer": "ipython3",
   "version": "3.9.13"
  }
 },
 "nbformat": 4,
 "nbformat_minor": 5
}
